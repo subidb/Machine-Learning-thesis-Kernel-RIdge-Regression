{
 "cells": [
  {
   "cell_type": "code",
   "execution_count": 1,
   "id": "6f1891dd-657b-4aca-82ca-442fe977f913",
   "metadata": {},
   "outputs": [
    {
     "name": "stdout",
     "output_type": "stream",
     "text": [
      "x\n"
     ]
    }
   ],
   "source": [
    "import pandas as pd\n",
    "import sys\n",
    "import os\n",
    "import numpy as np\n",
    "import cupy as cp\n",
    "import sklearn\n",
    "from sklearn import linear_model\n",
    "from sklearn.model_selection import train_test_split\n",
    "from sklearn.metrics import mean_squared_error, r2_score\n",
    "from sklearn.kernel_ridge import KernelRidge\n",
    "from timeit import default_timer as timer \n",
    "from sys import getsizeof\n",
    "\n",
    "print(\"x\")"
   ]
  },
  {
   "cell_type": "code",
   "execution_count": 2,
   "id": "c6078c61-3356-498e-955c-87004d763115",
   "metadata": {
    "tags": []
   },
   "outputs": [],
   "source": [
    "def pivoted_cholesky(matrix, max_rank, diag_rtol=1e-3, name=None):\n",
    "\n",
    "    if max_rank > np.linalg.matrix_rank(matrix):\n",
    "            max_rank = np.linalg.matrix_rank(matrix)\n",
    "    \n",
    "    matrix_shape = np.asarray(matrix.shape)\n",
    "    matrix_diag = cp.diagonal(matrix)\n",
    "    orig_error = cp.amax(matrix_diag)\n",
    "    max_rank = cp.asnumpy(max_rank)\n",
    "\n",
    "    def body(m, pchol, perm, matrix_diag):\n",
    "\n",
    "        maxi = np.argmax(matrix_diag[perm[m:]]) + m\n",
    "\n",
    "        maxval = matrix_diag[perm][maxi]\n",
    "        perm[m], perm[maxi] = perm[maxi], perm[m]\n",
    "\n",
    "        row = matrix[perm[m]][perm[m + 1:]]\n",
    "\n",
    "        # row = cp.array(row)\n",
    "        pchol = cp.asnumpy(pchol)\n",
    "\n",
    "        \n",
    "        def batch_gather(params, indices, axis=-1):\n",
    "            return cp.take(params, indices, axis=axis)\n",
    "        \n",
    "\n",
    "        prev_rows = pchol[..., :m, :]\n",
    "        prev_rows_perm_m_onward = batch_gather(prev_rows, perm[..., m + 1:])\n",
    "        prev_rows_pivot_col = batch_gather(prev_rows, perm[..., m:m + 1])\n",
    "        \n",
    "        row -= cp.sum(prev_rows_perm_m_onward * prev_rows_pivot_col, axis = -2)\n",
    "        pivot = np.sqrt(maxval)\n",
    "\n",
    "        row /= pivot\n",
    "        row = np.concatenate(([pivot], row), -1)\n",
    "        \n",
    "        matrix_diag_copy = matrix_diag.copy()\n",
    "        matrix_diag_copy[perm[m:]] -= row**2\n",
    "        \n",
    "        pchol[m, perm[m:]] = row\n",
    "        pchol_shape = pchol.shape\n",
    "\n",
    "        return m + 1, pchol, perm, matrix_diag_copy\n",
    "\n",
    "    m = cp.int64(0)\n",
    "\n",
    "    pchol = cp.zeros(matrix_shape, dtype=matrix.dtype)[..., :max_rank, :]\n",
    "\n",
    "\n",
    "    perm = np.broadcast_to(\n",
    "        range(matrix_shape[-1]), matrix_shape[:-1])\n",
    "\n",
    "    perm = perm.copy()\n",
    "\n",
    "    def check_cond(m, pchol, perm, matrix_diag):\n",
    "        del pchol\n",
    "        del perm\n",
    "        error = cp.linalg.norm(matrix_diag, ord=1, axis=-1)\n",
    "        max_error = cp.amax(error / orig_error)\n",
    "        return (m >= max_rank)\n",
    "\n",
    "    while(1):\n",
    "        m, pchol, perm, matrix_diag = body(m, pchol, perm, matrix_diag)\n",
    "        if check_cond(m, pchol, perm, matrix_diag):\n",
    "            break\n",
    "\n",
    "    pchol = cp.transpose(pchol)\n",
    "    pchol = cp.array(pchol)\n",
    "    print(type(pchol))\n",
    "\n",
    "    return pchol\n"
   ]
  },
  {
   "cell_type": "code",
   "execution_count": null,
   "id": "e9041f7e-d397-4a8b-b99d-ff3a1cb83258",
   "metadata": {},
   "outputs": [],
   "source": [
    "# import pandas as pd\n",
    "# energy_set = pd.read_csv('energy.csv')\n",
    "\n",
    "# energy_set.shape\n",
    "\n",
    "\n",
    "# X = pd.read_csv('energy.csv', usecols=['X1', 'X2', 'X3', 'X4', 'X5', 'X6', 'X7', 'X8'])\n",
    "# y = pd.read_csv('energy.csv', usecols=['Y1'])\n",
    "\n",
    "# X = X.values\n",
    "# y = y.values\n",
    "\n",
    "start_load = timer()\n",
    "\n",
    "X = np.load('data/md17_X.npy')\n",
    "\n",
    "y = np.load('data/md17_Y.npy')\n",
    "\n",
    "print(\"GPU load data time = \", timer() - start_load)\n",
    "\n",
    "X.shape, y.shape"
   ]
  },
  {
   "cell_type": "code",
   "execution_count": 5,
   "id": "84aea263-2152-4089-958b-c0bf14006994",
   "metadata": {},
   "outputs": [
    {
     "ename": "NameError",
     "evalue": "name 'X' is not defined",
     "output_type": "error",
     "traceback": [
      "\u001b[0;31m---------------------------------------------------------------------------\u001b[0m",
      "\u001b[0;31mNameError\u001b[0m                                 Traceback (most recent call last)",
      "\u001b[0;32m<ipython-input-5-3aeb47bfe060>\u001b[0m in \u001b[0;36m<module>\u001b[0;34m\u001b[0m\n\u001b[1;32m      3\u001b[0m \u001b[0mnewfp\u001b[0m\u001b[0;34m\u001b[0m\u001b[0;34m\u001b[0m\u001b[0m\n\u001b[1;32m      4\u001b[0m \u001b[0;34m\u001b[0m\u001b[0m\n\u001b[0;32m----> 5\u001b[0;31m \u001b[0mX\u001b[0m\u001b[0;34m.\u001b[0m\u001b[0mshape\u001b[0m\u001b[0;34m,\u001b[0m \u001b[0my\u001b[0m\u001b[0;34m.\u001b[0m\u001b[0mshape\u001b[0m\u001b[0;34m\u001b[0m\u001b[0;34m\u001b[0m\u001b[0m\n\u001b[0m",
      "\u001b[0;31mNameError\u001b[0m: name 'X' is not defined"
     ]
    }
   ],
   "source": [
    "newfp = np.memmap('data/md17_X.npy', dtype='float32', mode='r', shape=(3,4))\n",
    "\n",
    "newfp\n",
    "\n",
    "X.shape, y.shape"
   ]
  },
  {
   "cell_type": "code",
   "execution_count": 5,
   "id": "6e2d9482-222a-4ea3-9af0-223b5cefc85d",
   "metadata": {},
   "outputs": [],
   "source": [
    "X = X[:20000]\n",
    "y= y[:20000]"
   ]
  },
  {
   "cell_type": "code",
   "execution_count": 42,
   "id": "3f426d69-011e-49ae-b14e-8ab867c93242",
   "metadata": {},
   "outputs": [],
   "source": [
    "def execute_krr(lr, ridge_parameter, X_train, y_train, X_test):\n",
    "\n",
    "    lr_approx_ridge = lr + cp.identity(len(X_train)) * ridge_parameter\n",
    "    \n",
    "    print(type(lr_approx_ridge), np.linalg.matrix_rank(lr_approx_ridge), type(y_train))\n",
    "    alpha = cp.linalg.solve(lr_approx_ridge, y_train)\n",
    "\n",
    "    y_prediction = []\n",
    "    \n",
    "    X_train, X_test = cp.asnumpy(X_train), cp.asnumpy(X_test)\n",
    "    for j in range(len(X_test)):\n",
    "        x_test_val = X_test[j].reshape(1,-1)\n",
    "        pred = 0\n",
    "        for i in range(len(X_train)):\n",
    "            x_train_val = X_train[i].reshape(1,-1)\n",
    "            similarity = cp.array(sklearn.metrics.pairwise.laplacian_kernel(x_train_val, x_test_val))     \n",
    "            temp = alpha[i][0] * similarity[0]     \n",
    "            pred += temp[0]\n",
    "        y_prediction.append(pred)\n",
    "\n",
    "\n",
    "#     y_predarray = np.array(y_prediction).reshape(-1,1)\n",
    "#     y_predarray.shape\n",
    "    print(type(y_prediction))\n",
    "    return cp.asarray(y_prediction)\n"
   ]
  },
  {
   "cell_type": "code",
   "execution_count": 135,
   "id": "bc8c062f-eb64-4c86-ae04-68a2fb587659",
   "metadata": {},
   "outputs": [],
   "source": []
  },
  {
   "cell_type": "code",
   "execution_count": null,
   "id": "a846c8e7-aa3d-446f-8ad5-f4b7e13f91e9",
   "metadata": {
    "tags": []
   },
   "outputs": [],
   "source": [
    "from sklearn.model_selection import train_test_split\n",
    "X_train, X_test, y_train, y_test = train_test_split(X, y, test_size=0.1)\n",
    "\n",
    "kernel_matrix = sklearn.metrics.pairwise.laplacian_kernel(X_train, Y=None, gamma=None)\n",
    "\n",
    "kernel_matrix.shape\n",
    "\n",
    "kernel_matrix.shape, np.linalg.norm(kernel_matrix)\n",
    "\n",
    "\n",
    "# kernel_matrix = cp.array(kernel_matrix)\n",
    "# type(kernel_matrix)"
   ]
  },
  {
   "cell_type": "code",
   "execution_count": 36,
   "id": "d073d752-3b46-4391-aebe-9f20260ef12e",
   "metadata": {
    "tags": []
   },
   "outputs": [
    {
     "name": "stdout",
     "output_type": "stream",
     "text": [
      "<class 'cupy.core.core.ndarray'>\n",
      "GPU piv =  0.1648433916270733\n"
     ]
    }
   ],
   "source": [
    "start_piv_gpu = timer()\n",
    "\n",
    "\n",
    "lr = pivoted_cholesky(\n",
    "        kernel_matrix, 90) \n",
    "# print(type(lr))\n",
    "# print(\"rank = \", cp.linalg.matrix_rank(lr))\n",
    "\n",
    "print(\"GPU piv = \", timer() - start_piv_gpu)"
   ]
  },
  {
   "cell_type": "code",
   "execution_count": 24,
   "id": "1ba02d73-0f34-4126-ab97-dc86d8b06a2a",
   "metadata": {},
   "outputs": [
    {
     "name": "stdout",
     "output_type": "stream",
     "text": [
      "GPU piv =  0.00038227997720241547\n"
     ]
    },
    {
     "data": {
      "text/plain": [
       "(3819968, 160, 160, 160)"
      ]
     },
     "execution_count": 24,
     "metadata": {},
     "output_type": "execute_result"
    }
   ],
   "source": [
    "start = timer()\n",
    "\n",
    "lr_t = cp.transpose(lr)\n",
    "\n",
    "lr_approx = cp.matmul(lr, lr_t)\n",
    "\n",
    "# print(lr_approx.shape, type(lr_approx))\n",
    "\n",
    "# print(\"orig norm\", np.linalg.norm(kernel_matrix))\n",
    "# print(\"approx norm = \", np.linalg.norm(lr_approx), \"approx_rank = \", np.linalg.matrix_rank(lr_approx))\n",
    "\n",
    "\n",
    "print(\"GPU piv = \", timer() - start)\n",
    "\n",
    "getsizeof(kernel_matrix), getsizeof(lr_approx), getsizeof(lr), getsizeof(lr_t)"
   ]
  },
  {
   "cell_type": "code",
   "execution_count": 11,
   "id": "8ca9278e-0fd7-46e5-8c52-cbbb67d304f9",
   "metadata": {},
   "outputs": [
    {
     "name": "stdout",
     "output_type": "stream",
     "text": [
      "<class 'cupy.core.core.ndarray'> 691 <class 'cupy.core.core.ndarray'>\n",
      "<class 'list'>\n",
      "GPU krr =  13.627636002376676\n"
     ]
    }
   ],
   "source": [
    "\n",
    "\n",
    "start_krr = timer()\n",
    "\n",
    "X_train_cp, y_train_cp, X_test_cp, y_test_cp, kernel_matrix_cp = cp.array(X_train), cp.array(y_train), cp.array(X_test), cp.array(y_test), cp.array(kernel_matrix)\n",
    "\n",
    "y_predarray = execute_krr(kernel_matrix_cp, 0, X_train_cp, y_train_cp, X_test_cp)\n",
    "\n",
    "print(\"GPU krr = \", timer() - start_krr)\n",
    "\n"
   ]
  },
  {
   "cell_type": "code",
   "execution_count": null,
   "id": "71f24a62-0ea5-4819-a6f9-25e8b43bd669",
   "metadata": {},
   "outputs": [],
   "source": []
  },
  {
   "cell_type": "code",
   "execution_count": 215,
   "id": "b7932d3c-c8ee-4311-8331-46ed07bde566",
   "metadata": {},
   "outputs": [],
   "source": [
    "y_predarray = cp.asnumpy(y_predarray)"
   ]
  },
  {
   "cell_type": "code",
   "execution_count": 16,
   "id": "d73ec7e8-ff8d-4f34-a2d4-47fa3e54764e",
   "metadata": {},
   "outputs": [
    {
     "name": "stdout",
     "output_type": "stream",
     "text": [
      "rsme_sk =  0.22016128979640934 rsme_piv =  0.22016128979640234\n",
      "(77, 1)\n",
      "[42.50418625]      42.50418625223657       [42.49]\n",
      "[18.74880219]      18.74880219056279       [18.46]\n",
      "[26.5956469]      26.59564689743978       [26.47]\n",
      "[16.57089372]      16.57089372351045       [16.66]\n",
      "[14.54342786]      14.543427855509794       [14.4]\n",
      "[11.4854897]      11.485489699505427       [11.53]\n",
      "[24.35788681]      24.357886812106095       [24.23]\n",
      "[42.51428793]      42.51428792889314       [42.77]\n",
      "[28.49461779]      28.49461779202789       [28.05]\n",
      "[24.40258802]      24.40258802227696       [24.6]\n",
      "[14.0919701]      14.091970102270013       [13.68]\n",
      "[25.09086759]      25.090867591477117       [25.17]\n",
      "[19.40841162]      19.40841161554621       [19.42]\n",
      "[32.62518706]      32.62518705644466       [32.73]\n",
      "[16.5151109]      16.51511090050267       [16.44]\n",
      "[9.95767105]      9.957671051062134       [10.38]\n",
      "[14.54287681]      14.542876805128067       [14.61]\n",
      "[37.31916618]      37.31916618332013       [36.71]\n",
      "[43.28484288]      43.28484288356727       [43.1]\n",
      "[32.15245224]      32.15245223833729       [32.31]\n",
      "[37.25513766]      37.25513765820557       [37.26]\n",
      "[12.33582176]      12.335821761392268       [12.43]\n",
      "[29.13659013]      29.136590127263933       [28.93]\n",
      "[16.76178216]      16.761782155432456       [16.94]\n",
      "[35.734628]      35.734627997668596       [35.69]\n",
      "[12.98958887]      12.989588874741171       [12.93]\n",
      "[25.76205608]      25.76205608415897       [25.36]\n",
      "[26.32694715]      26.32694715275182       [26.44]\n",
      "[15.33005062]      15.330050618932187       [15.29]\n",
      "[28.52902076]      28.529020755605274       [28.6]\n",
      "[15.36058843]      15.360588430478362       [15.41]\n",
      "[14.43987464]      14.439874644136054       [14.42]\n",
      "[24.45914423]      24.459144225677477       [24.63]\n",
      "[12.8997041]      12.899704099634873       [12.88]\n",
      "[33.02287091]      33.02287090679126       [33.12]\n",
      "[28.90593812]      28.905938116584117       [28.52]\n",
      "[12.2650332]      12.265033202760963       [12.28]\n",
      "[28.60088523]      28.60088523423307       [28.65]\n",
      "[15.31491063]      15.314910629858296       [15.3]\n",
      "[29.37978844]      29.379788439043505       [29.52]\n",
      "[23.78480488]      23.78480488389662       [24.17]\n",
      "[39.47531008]      39.475310078313115       [39.83]\n",
      "[11.32041674]      11.320416744928934       [11.22]\n",
      "[10.81095374]      10.810953741685111       [11.14]\n",
      "[23.38203427]      23.382034273592726       [22.8]\n",
      "[15.68708888]      15.68708887847106       [15.55]\n",
      "[17.41857631]      17.418576314804724       [17.26]\n",
      "[37.01828777]      37.018287771452       [37.12]\n",
      "[14.48423451]      14.484234511215742       [14.48]\n",
      "[7.16323992]      7.163239922247285       [7.1]\n",
      "[23.75904646]      23.759046461342628       [23.54]\n",
      "[10.44643597]      10.44643597418857       [10.46]\n",
      "[11.98666919]      11.986669188080857       [12.27]\n",
      "[14.06216498]      14.062164981628749       [14.1]\n",
      "[32.68224706]      32.68224706059356       [32.71]\n",
      "[29.08972822]      29.08972822323379       [28.75]\n",
      "[11.06690661]      11.066906613006594       [11.11]\n",
      "[32.4017318]      32.40173180259213       [32.46]\n",
      "[14.0171773]      14.017177302022091       [13.97]\n",
      "[27.99210379]      27.9921037925939       [28.01]\n",
      "[31.36997185]      31.369971845812337       [31.64]\n",
      "[40.72794709]      40.72794708813358       [40.57]\n",
      "[26.78722208]      26.78722207660495       [26.84]\n",
      "[32.17188023]      32.171880225248664       [32.21]\n",
      "[11.95517903]      11.955179033942724       [11.98]\n",
      "[17.49679449]      17.496794492808725       [17.23]\n",
      "[11.36411646]      11.364116457501254       [11.32]\n",
      "[25.09088094]      25.090880942082165       [25.43]\n",
      "[12.32147065]      12.321470648654726       [12.3]\n",
      "[35.95993803]      35.95993802765114       [36.06]\n",
      "[26.91805885]      26.918058846053142       [27.03]\n",
      "[23.16718851]      23.167188512044       [23.87]\n",
      "[24.37219375]      24.37219375348728       [24.26]\n",
      "[14.49747303]      14.497473027469649       [14.44]\n",
      "[33.00361671]      33.00361671441411       [33.28]\n",
      "[12.54251895]      12.54251895179352       [12.74]\n",
      "[35.36818282]      35.36818281584621       [35.48]\n"
     ]
    }
   ],
   "source": [
    "krr_laplacian = KernelRidge(alpha=0, kernel='laplacian')\n",
    "# X_train_stan, y_train_stan = cp.asnumpy(X_train), cp.asnumpy(y_train)\n",
    "# X_test_stan, y_test_stan = cp.asnumpy(X_test), cp.asnumpy(y_test)\n",
    "krr_laplacian.fit(X_train, y_train)\n",
    "\n",
    "\n",
    "stan_pred = krr_laplacian.predict(X_test)\n",
    "# rsme_krr_standard = np.sqrt(mean_squared_error(y_test_stan, stan_pred))\n",
    "\n",
    "rsme_krr_standard = np.sqrt(mean_squared_error(y_test, stan_pred))\n",
    "rsme_krr_manual = np.sqrt(mean_squared_error(y_test, cp.asnumpy(y_predarray)))\n",
    "    \n",
    "print(\"rsme_sk = \", rsme_krr_standard, \"rsme_piv = \", rsme_krr_manual)\n",
    "\n",
    "print(y_test.shape)\n",
    "for y1, y2, y3 in zip(stan_pred, y_predarray, y_test):\n",
    "    print(y1, \"    \", y2, \"     \", y3)\n",
    "    \n"
   ]
  },
  {
   "cell_type": "code",
   "execution_count": null,
   "id": "db251f08-a66f-4e62-b5b6-c18d8177ed1e",
   "metadata": {},
   "outputs": [],
   "source": []
  },
  {
   "cell_type": "code",
   "execution_count": null,
   "id": "04804f2e-42f6-4912-89e7-818c65165c21",
   "metadata": {},
   "outputs": [],
   "source": []
  },
  {
   "cell_type": "code",
   "execution_count": null,
   "id": "560b1de9-f778-4193-9f31-3bdf4ebb9e07",
   "metadata": {},
   "outputs": [],
   "source": []
  },
  {
   "cell_type": "code",
   "execution_count": null,
   "id": "e0cd0dd5-d40f-42a3-ac2d-79784ee7addf",
   "metadata": {},
   "outputs": [],
   "source": []
  },
  {
   "cell_type": "code",
   "execution_count": null,
   "id": "e7b5e637-fad2-4fc7-a0dd-67ea65e04501",
   "metadata": {},
   "outputs": [],
   "source": []
  }
 ],
 "metadata": {
  "kernelspec": {
   "display_name": "Python 3",
   "language": "python",
   "name": "python3"
  },
  "language_info": {
   "codemirror_mode": {
    "name": "ipython",
    "version": 3
   },
   "file_extension": ".py",
   "mimetype": "text/x-python",
   "name": "python",
   "nbconvert_exporter": "python",
   "pygments_lexer": "ipython3",
   "version": "3.7.9"
  }
 },
 "nbformat": 4,
 "nbformat_minor": 5
}
