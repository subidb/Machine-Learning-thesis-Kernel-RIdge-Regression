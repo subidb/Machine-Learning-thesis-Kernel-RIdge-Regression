{
 "cells": [
  {
   "cell_type": "code",
   "execution_count": null,
   "id": "6f1891dd-657b-4aca-82ca-442fe977f913",
   "metadata": {},
   "outputs": [],
   "source": [
    "import pandas as pd\n",
    "import sys\n",
    "import os\n",
    "import numpy as np\n",
    "import cupy as cp\n",
    "import sklearn\n",
    "from sklearn import linear_model\n",
    "from sklearn.model_selection import train_test_split\n",
    "from sklearn.metrics import mean_squared_error, r2_score\n",
    "from sklearn.kernel_ridge import KernelRidge\n",
    "from timeit import default_timer as timer \n",
    "from sys import getsizeof\n",
    "from matplotlib import pyplot as plt\n",
    "\n",
    "np.set_printoptions(suppress=True)"
   ]
  },
  {
   "cell_type": "code",
   "execution_count": null,
   "id": "c6078c61-3356-498e-955c-87004d763115",
   "metadata": {
    "tags": []
   },
   "outputs": [],
   "source": [
    "\n",
    "\n",
    "def pivoted_cholesky(matrix, max_rank, diag_rtol=1e-3, name=None):\n",
    "    \n",
    "    norm_array = []\n",
    "    rank_array = []\n",
    "    time_array = []\n",
    "    \n",
    "    if max_rank > np.linalg.matrix_rank(matrix):\n",
    "        max_rank = np.linalg.matrix_rank(matrix)\n",
    "    \n",
    "    matrix_shape = np.asarray(matrix.shape)\n",
    "    matrix_diag = np.diagonal(matrix)\n",
    "    orig_error = np.amax(matrix_diag)\n",
    "    \n",
    "    Error_array = []\n",
    "    norm_array = []\n",
    "    \n",
    "    start = timer()\n",
    "    \n",
    "    def body(m, pchol, perm, matrix_diag):\n",
    "        \n",
    "        maxi = np.argmax(matrix_diag[perm[m:]]) + m\n",
    "\n",
    "        maxval = matrix_diag[perm][maxi]\n",
    "        perm[m], perm[maxi] = perm[maxi], perm[m]\n",
    "\n",
    "        row = matrix[perm[m]][perm[m + 1:]]\n",
    "\n",
    "        \n",
    "        def batch_gather(params, indices, axis=-1):\n",
    "            return np.take(params, indices, axis=axis)\n",
    "        \n",
    "\n",
    "        prev_rows = pchol[..., :m, :]\n",
    "        prev_rows_perm_m_onward = batch_gather(prev_rows, perm[..., m + 1:])\n",
    "        prev_rows_pivot_col = batch_gather(prev_rows, perm[..., m:m + 1])\n",
    "        \n",
    "        row -= np.sum(prev_rows_perm_m_onward * prev_rows_pivot_col, axis = -2)\n",
    "\n",
    "        pivot = np.sqrt(maxval)\n",
    "        \n",
    "        row /= pivot\n",
    "\n",
    "        row = np.concatenate([[pivot], row], -1)\n",
    "        \n",
    "        matrix_diag_copy = matrix_diag.copy()\n",
    "        matrix_diag_copy[perm[m:]] -= row**2\n",
    "        \n",
    "        pchol[m, perm[m:]] = row\n",
    "        pchol_shape = pchol.shape\n",
    "\n",
    "        return m + 1, pchol, perm, matrix_diag_copy\n",
    "\n",
    "    m = np.int64(0)\n",
    "    pchol = np.zeros(matrix_shape, dtype=matrix.dtype)[..., :max_rank, :]\n",
    "    perm = np.broadcast_to(\n",
    "        range(matrix_shape[-1]), matrix_shape[:-1])\n",
    "    perm = perm.copy()\n",
    "\n",
    "    def check_cond(m, pchol, perm, matrix_diag):\n",
    "        del pchol\n",
    "        del perm\n",
    "        error = np.linalg.norm(matrix_diag, ord=1, axis=-1)\n",
    "        max_error = np.amax(error / orig_error)\n",
    "        return (m >= max_rank)\n",
    "\n",
    "    while(1):\n",
    "        m, pchol, perm, matrix_diag = body(m, pchol, perm, matrix_diag)\n",
    "        pchol_T = np.transpose(pchol)\n",
    "        lr_approx = np.matmul(pchol, pchol_T)\n",
    "        time_array.append(timer() - start) \n",
    "        rank_array.append(np.linalg.matrix_rank(lr_approx))\n",
    "        norm_array.append(np.linalg.norm(lr_approx))\n",
    "        if (m % 50 == 0):\n",
    "            print(m)\n",
    "        if check_cond(m, pchol, perm, matrix_diag):\n",
    "            break\n",
    "\n",
    "#     pchol_T = np.transpose(pchol)\n",
    "#     lr_approx = np.matmul(pchol, pchol_T)\n",
    "    \n",
    "\n",
    "    return lr_approx, rank_array, norm_array, time_array\n"
   ]
  },
  {
   "cell_type": "code",
   "execution_count": null,
   "id": "b5df035f-04ff-46ea-bc9f-bfde1f821305",
   "metadata": {
    "tags": []
   },
   "outputs": [],
   "source": [
    "\n",
    "\n",
    "\n",
    "def pivoted_cholesky_gpu(matrix, max_rank,  diag_rtol=1e-3, name=None):\n",
    "    \n",
    "    norm_array_gpu = []\n",
    "    rank_array_gpu = []\n",
    "    time_array_gpu = []\n",
    "\n",
    "    if max_rank > np.linalg.matrix_rank(matrix):\n",
    "            max_rank = np.linalg.matrix_rank(matrix)\n",
    "    \n",
    "    matrix_shape = np.asarray(matrix.shape)\n",
    "    matrix_diag = cp.diagonal(matrix)\n",
    "    orig_error = cp.amax(matrix_diag)\n",
    "    max_rank = cp.asnumpy(max_rank)\n",
    "    \n",
    "    start = timer()\n",
    "\n",
    "    def body(m, pchol, perm, matrix_diag):\n",
    "\n",
    "        maxi = np.argmax(matrix_diag[perm[m:]]) + m\n",
    "\n",
    "        maxval = matrix_diag[perm][maxi]\n",
    "        perm[m], perm[maxi] = perm[maxi], perm[m]\n",
    "\n",
    "        row = matrix[perm[m]][perm[m + 1:]]\n",
    "\n",
    "        # row = cp.array(row)\n",
    "        pchol = cp.asnumpy(pchol)\n",
    "\n",
    "        \n",
    "        def batch_gather(params, indices, axis=-1):\n",
    "            return cp.take(params, indices, axis=axis)\n",
    "        \n",
    "\n",
    "        prev_rows = pchol[..., :m, :]\n",
    "        prev_rows_perm_m_onward = batch_gather(prev_rows, perm[..., m + 1:])\n",
    "        prev_rows_pivot_col = batch_gather(prev_rows, perm[..., m:m + 1])\n",
    "        \n",
    "        row -= cp.sum(prev_rows_perm_m_onward * prev_rows_pivot_col, axis = -2)\n",
    "        pivot = np.sqrt(maxval)\n",
    "\n",
    "        row /= pivot\n",
    "        row = np.concatenate(([pivot], row), -1)\n",
    "        \n",
    "        matrix_diag_copy = matrix_diag.copy()\n",
    "        matrix_diag_copy[perm[m:]] -= row**2\n",
    "        \n",
    "        pchol[m, perm[m:]] = row\n",
    "        pchol_shape = pchol.shape\n",
    "\n",
    "        return m + 1, pchol, perm, matrix_diag_copy\n",
    "\n",
    "    m = cp.int64(0)\n",
    "    pchol = cp.zeros(matrix_shape, dtype=matrix.dtype)[..., :max_rank, :]\n",
    "    perm = np.broadcast_to(\n",
    "        range(matrix_shape[-1]), matrix_shape[:-1])\n",
    "    perm = perm.copy()\n",
    "\n",
    "    def check_cond(m, pchol, perm, matrix_diag):\n",
    "        del pchol\n",
    "        del perm\n",
    "        error = np.linalg.norm(matrix_diag, ord=1, axis=-1)\n",
    "        max_error = cp.amax(error / orig_error)\n",
    "        return (m >= max_rank)\n",
    "\n",
    "    while(1):\n",
    "        m, pchol, perm, matrix_diag = body(m, pchol, perm, matrix_diag)\n",
    "        pchol = cp.array(pchol)\n",
    "        pchol_T = cp.transpose(pchol)\n",
    "        lr_approx = cp.matmul(pchol, pchol_T)\n",
    "        time_array_gpu.append(timer() - start)  \n",
    "        rank_array_gpu.append(np.linalg.matrix_rank(lr_approx))\n",
    "        norm_array_gpu.append(np.linalg.norm(lr_approx))\n",
    "#         print(\"m = \", m)\n",
    "        if (m % 100 == 0):\n",
    "            print(m)\n",
    "        \n",
    "        if check_cond(m, pchol, perm, matrix_diag):\n",
    "            break\n",
    "            \n",
    "\n",
    "    return lr_approx, rank_array_gpu, norm_array_gpu, time_array_gpu"
   ]
  },
  {
   "cell_type": "code",
   "execution_count": null,
   "id": "e9041f7e-d397-4a8b-b99d-ff3a1cb83258",
   "metadata": {
    "tags": []
   },
   "outputs": [],
   "source": [
    "import pandas as pd\n",
    "energy_set = pd.read_csv('energy.csv')\n",
    "\n",
    "energy_set.shape\n",
    "\n",
    "\n",
    "X = pd.read_csv('energy.csv', usecols=['X1', 'X2', 'X3', 'X4', 'X5', 'X6', 'X7', 'X8'])\n",
    "y = pd.read_csv('energy.csv', usecols=['Y1'])\n",
    "\n",
    "X = X.values\n",
    "y = y.values\n",
    "\n",
    "start_load = timer()\n",
    "\n",
    "# X = np.load('data/md17_X.npy')\n",
    "\n",
    "# y = np.load('data/md17_Y.npy')\n",
    "\n",
    "print(\"CPU load data time = \", timer() - start_load)\n"
   ]
  },
  {
   "cell_type": "code",
   "execution_count": null,
   "id": "32ffd566-f116-47ec-8371-31b0b1165e4a",
   "metadata": {
    "tags": []
   },
   "outputs": [],
   "source": [
    "kernel_matrix.shape\n",
    "X = X[:60]\n",
    "y = y[:60]"
   ]
  },
  {
   "cell_type": "code",
   "execution_count": null,
   "id": "d56b6889-2865-46fd-ae56-a91a0aa235a9",
   "metadata": {},
   "outputs": [],
   "source": [
    "\n",
    "X = X[:3000]\n",
    "y = y[:3000]\n",
    "X.shape,  y.shape\n",
    "\n"
   ]
  },
  {
   "cell_type": "code",
   "execution_count": null,
   "id": "518cc848-d9d0-4963-975a-cba8dbcd7421",
   "metadata": {},
   "outputs": [],
   "source": []
  },
  {
   "cell_type": "code",
   "execution_count": null,
   "id": "8f1eb47b-1e44-450a-9a12-b6ac10cdf09c",
   "metadata": {},
   "outputs": [],
   "source": [
    "start_km = timer()\n",
    "from sklearn.model_selection import train_test_split\n",
    "X_train, X_test, y_train, y_test = train_test_split(X, y, test_size=0.2)\n",
    "\n",
    "kernel_matrix = sklearn.metrics.pairwise.laplacian_kernel(X_train, Y=None, gamma=None)\n",
    "\n",
    "print(\"CPU kernel_Matrix init time = \", timer() - start_km)\n",
    "kernel_matrix.shape\n",
    "\n",
    "kernel_matrix.shape, np.linalg.norm(kernel_matrix)"
   ]
  },
  {
   "cell_type": "code",
   "execution_count": null,
   "id": "6e726b29-5f16-4e8c-b7ed-d12759bcc26d",
   "metadata": {},
   "outputs": [],
   "source": [
    "def execute_krr(matrix, ridge_parameter, X_train, y_train, X_test):\n",
    "\n",
    "#   lr_approx_ridge = matrix + np.identity(len(X_train)) * ridge_parameter\n",
    "    lr_approx_ridge = matrix + np.identity(len(matrix)) * ridge_parameter\n",
    "    \n",
    "    alpha = np.linalg.solve(lr_approx_ridge, y_train)\n",
    "\n",
    "    pred = 0\n",
    "    y_prediction = []\n",
    "\n",
    "    for j in range(len(X_test)):\n",
    "        x_test_val = X_test[j].reshape(1,-1)\n",
    "        pred = 0\n",
    "        for i in range(len(X_train)):\n",
    "            x_train_val = X_train[i].reshape(1,-1)\n",
    "            temp = alpha[i] * sklearn.metrics.pairwise.laplacian_kernel(x_train_val, x_test_val)     \n",
    "            pred += temp[0]\n",
    "        y_prediction.append(pred[0])\n",
    "\n",
    "\n",
    "    y_predarray = np.array(y_prediction).reshape(-1,1)\n",
    "    y_predarray.shape\n",
    "    return y_predarray"
   ]
  },
  {
   "cell_type": "code",
   "execution_count": null,
   "id": "513e4b05-b5f3-4213-8638-06439c23de31",
   "metadata": {},
   "outputs": [],
   "source": [
    "kernel_matrix.shape"
   ]
  },
  {
   "cell_type": "code",
   "execution_count": null,
   "id": "e85591f3-3e96-4a89-b566-97a06d06b370",
   "metadata": {
    "jupyter": {
     "source_hidden": true
    },
    "tags": []
   },
   "outputs": [],
   "source": [
    "def execute_krr_gpu(matrix, ridge_parameter, X_train, y_train, X_test):\n",
    "    \n",
    "    \n",
    "#     a = cp.identity(len(X_train))\n",
    "    lr_approx_ridge = matrix + cp.identity(len(X_train)) * ridge_parameter\n",
    "    \n",
    "#     print(type(lr_approx_ridge), np.linalg.matrix_rank(lr_approx_ridge), type(y_train))\n",
    "    alpha = cp.linalg.solve(lr_approx_ridge, y_train)\n",
    "\n",
    "    y_prediction = []\n",
    "    \n",
    "    X_train, X_test = cp.asnumpy(X_train), cp.asnumpy(X_test)\n",
    "    for j in range(len(X_test)):\n",
    "        x_test_val = X_test[j].reshape(1,-1)\n",
    "        pred = 0\n",
    "        for i in range(len(X_train)):\n",
    "            x_train_val = X_train[i].reshape(1,-1)\n",
    "            similarity = cp.array(sklearn.metrics.pairwise.laplacian_kernel(x_train_val, x_test_val))     \n",
    "            temp = alpha[i][0] * similarity[0]     \n",
    "            pred += temp[0]\n",
    "        y_prediction.append(pred)\n",
    "\n",
    "\n",
    "#     y_predarray = np.array(y_prediction).reshape(-1,1)\n",
    "#     y_predarray.shape\n",
    "    print(type(y_prediction))\n",
    "    return cp.asarray(y_prediction)"
   ]
  },
  {
   "cell_type": "code",
   "execution_count": null,
   "id": "f4daeb69-7f12-4bb4-b06c-0b5b8de896b7",
   "metadata": {
    "jupyter": {
     "source_hidden": true
    },
    "tags": []
   },
   "outputs": [],
   "source": [
    "len(X_test),"
   ]
  },
  {
   "cell_type": "code",
   "execution_count": null,
   "id": "e4501a5b-e07e-4221-b0d9-5a6ea5b3d481",
   "metadata": {
    "tags": []
   },
   "outputs": [],
   "source": [
    "lr_approx = pivoted_cholesky(kernel_matrix, 10000) \n",
    "\n",
    "# lr_approx[3][2990:]\n",
    "# lr_approx[0]"
   ]
  },
  {
   "cell_type": "code",
   "execution_count": null,
   "id": "f0831b77-80e5-4776-8ecb-cfdd0c7ac8e6",
   "metadata": {
    "tags": []
   },
   "outputs": [],
   "source": [
    "lr_approx_gpu = pivoted_cholesky_gpu(kernel_matrix, 10000) \n",
    "\n",
    "# lr_approx_gpu[3][9000:]\n",
    "kernel_matrix.shape"
   ]
  },
  {
   "cell_type": "code",
   "execution_count": null,
   "id": "115c0213-8cd6-40a5-9bc5-8933a3eb04c7",
   "metadata": {},
   "outputs": [],
   "source": [
    "lr_approx_gpu[2][:48]"
   ]
  },
  {
   "cell_type": "code",
   "execution_count": 354,
   "id": "9eb88898-ccb3-4b88-98ae-520b855a902e",
   "metadata": {},
   "outputs": [
    {
     "data": {
      "image/png": "[encoded data removed]",
      "text/plain": [
       "<Figure size 432x288 with 1 Axes>"
      ]
     },
     "metadata": {
      "needs_background": "light"
     },
     "output_type": "display_data"
    },
    {
     "ename": "FileNotFoundError",
     "evalue": "[Errno 2] No such file or directory: 'figs/energy_rank_error.png'",
     "output_type": "error",
     "traceback": [
      "\u001b[0;31m---------------------------------------------------------------------------\u001b[0m",
      "\u001b[0;31mFileNotFoundError\u001b[0m                         Traceback (most recent call last)",
      "\u001b[0;32m<ipython-input-354-52f393799a65>\u001b[0m in \u001b[0;36m<module>\u001b[0;34m\u001b[0m\n\u001b[1;32m     17\u001b[0m \u001b[0mplt\u001b[0m\u001b[0;34m.\u001b[0m\u001b[0mplot\u001b[0m\u001b[0;34m(\u001b[0m\u001b[0mlr_approx\u001b[0m\u001b[0;34m[\u001b[0m\u001b[0;36m1\u001b[0m\u001b[0;34m]\u001b[0m\u001b[0;34m,\u001b[0m \u001b[0morig_norm\u001b[0m \u001b[0;34m-\u001b[0m \u001b[0mlr_approx\u001b[0m\u001b[0;34m[\u001b[0m\u001b[0;36m2\u001b[0m\u001b[0;34m]\u001b[0m\u001b[0;34m)\u001b[0m\u001b[0;34m\u001b[0m\u001b[0;34m\u001b[0m\u001b[0m\n\u001b[1;32m     18\u001b[0m \u001b[0mplt\u001b[0m\u001b[0;34m.\u001b[0m\u001b[0mshow\u001b[0m\u001b[0;34m(\u001b[0m\u001b[0;34m)\u001b[0m\u001b[0;34m\u001b[0m\u001b[0;34m\u001b[0m\u001b[0m\n\u001b[0;32m---> 19\u001b[0;31m \u001b[0mplt\u001b[0m\u001b[0;34m.\u001b[0m\u001b[0msavefig\u001b[0m\u001b[0;34m(\u001b[0m\u001b[0;34m'figs/energy_rank_error.png'\u001b[0m\u001b[0;34m)\u001b[0m\u001b[0;34m\u001b[0m\u001b[0;34m\u001b[0m\u001b[0m\n\u001b[0m\u001b[1;32m     20\u001b[0m \u001b[0;34m\u001b[0m\u001b[0m\n\u001b[1;32m     21\u001b[0m \u001b[0mlr_approx_gpu\u001b[0m\u001b[0;34m[\u001b[0m\u001b[0;36m2\u001b[0m\u001b[0;34m]\u001b[0m\u001b[0;34m\u001b[0m\u001b[0;34m\u001b[0m\u001b[0m\n",
      "\u001b[0;32m~/anaconda3/envs/sb/lib/python3.7/site-packages/matplotlib/pyplot.py\u001b[0m in \u001b[0;36msavefig\u001b[0;34m(*args, **kwargs)\u001b[0m\n\u001b[1;32m    857\u001b[0m \u001b[0;32mdef\u001b[0m \u001b[0msavefig\u001b[0m\u001b[0;34m(\u001b[0m\u001b[0;34m*\u001b[0m\u001b[0margs\u001b[0m\u001b[0;34m,\u001b[0m \u001b[0;34m**\u001b[0m\u001b[0mkwargs\u001b[0m\u001b[0;34m)\u001b[0m\u001b[0;34m:\u001b[0m\u001b[0;34m\u001b[0m\u001b[0;34m\u001b[0m\u001b[0m\n\u001b[1;32m    858\u001b[0m     \u001b[0mfig\u001b[0m \u001b[0;34m=\u001b[0m \u001b[0mgcf\u001b[0m\u001b[0;34m(\u001b[0m\u001b[0;34m)\u001b[0m\u001b[0;34m\u001b[0m\u001b[0;34m\u001b[0m\u001b[0m\n\u001b[0;32m--> 859\u001b[0;31m     \u001b[0mres\u001b[0m \u001b[0;34m=\u001b[0m \u001b[0mfig\u001b[0m\u001b[0;34m.\u001b[0m\u001b[0msavefig\u001b[0m\u001b[0;34m(\u001b[0m\u001b[0;34m*\u001b[0m\u001b[0margs\u001b[0m\u001b[0;34m,\u001b[0m \u001b[0;34m**\u001b[0m\u001b[0mkwargs\u001b[0m\u001b[0;34m)\u001b[0m\u001b[0;34m\u001b[0m\u001b[0;34m\u001b[0m\u001b[0m\n\u001b[0m\u001b[1;32m    860\u001b[0m     \u001b[0mfig\u001b[0m\u001b[0;34m.\u001b[0m\u001b[0mcanvas\u001b[0m\u001b[0;34m.\u001b[0m\u001b[0mdraw_idle\u001b[0m\u001b[0;34m(\u001b[0m\u001b[0;34m)\u001b[0m   \u001b[0;31m# need this if 'transparent=True' to reset colors\u001b[0m\u001b[0;34m\u001b[0m\u001b[0;34m\u001b[0m\u001b[0m\n\u001b[1;32m    861\u001b[0m     \u001b[0;32mreturn\u001b[0m \u001b[0mres\u001b[0m\u001b[0;34m\u001b[0m\u001b[0;34m\u001b[0m\u001b[0m\n",
      "\u001b[0;32m~/anaconda3/envs/sb/lib/python3.7/site-packages/matplotlib/figure.py\u001b[0m in \u001b[0;36msavefig\u001b[0;34m(self, fname, transparent, **kwargs)\u001b[0m\n\u001b[1;32m   2309\u001b[0m                 \u001b[0mpatch\u001b[0m\u001b[0;34m.\u001b[0m\u001b[0mset_edgecolor\u001b[0m\u001b[0;34m(\u001b[0m\u001b[0;34m'none'\u001b[0m\u001b[0;34m)\u001b[0m\u001b[0;34m\u001b[0m\u001b[0;34m\u001b[0m\u001b[0m\n\u001b[1;32m   2310\u001b[0m \u001b[0;34m\u001b[0m\u001b[0m\n\u001b[0;32m-> 2311\u001b[0;31m         \u001b[0mself\u001b[0m\u001b[0;34m.\u001b[0m\u001b[0mcanvas\u001b[0m\u001b[0;34m.\u001b[0m\u001b[0mprint_figure\u001b[0m\u001b[0;34m(\u001b[0m\u001b[0mfname\u001b[0m\u001b[0;34m,\u001b[0m \u001b[0;34m**\u001b[0m\u001b[0mkwargs\u001b[0m\u001b[0;34m)\u001b[0m\u001b[0;34m\u001b[0m\u001b[0;34m\u001b[0m\u001b[0m\n\u001b[0m\u001b[1;32m   2312\u001b[0m \u001b[0;34m\u001b[0m\u001b[0m\n\u001b[1;32m   2313\u001b[0m         \u001b[0;32mif\u001b[0m \u001b[0mtransparent\u001b[0m\u001b[0;34m:\u001b[0m\u001b[0;34m\u001b[0m\u001b[0;34m\u001b[0m\u001b[0m\n",
      "\u001b[0;32m~/anaconda3/envs/sb/lib/python3.7/site-packages/matplotlib/backend_bases.py\u001b[0m in \u001b[0;36mprint_figure\u001b[0;34m(self, filename, dpi, facecolor, edgecolor, orientation, format, bbox_inches, pad_inches, bbox_extra_artists, backend, **kwargs)\u001b[0m\n\u001b[1;32m   2215\u001b[0m                     \u001b[0morientation\u001b[0m\u001b[0;34m=\u001b[0m\u001b[0morientation\u001b[0m\u001b[0;34m,\u001b[0m\u001b[0;34m\u001b[0m\u001b[0;34m\u001b[0m\u001b[0m\n\u001b[1;32m   2216\u001b[0m                     \u001b[0mbbox_inches_restore\u001b[0m\u001b[0;34m=\u001b[0m\u001b[0m_bbox_inches_restore\u001b[0m\u001b[0;34m,\u001b[0m\u001b[0;34m\u001b[0m\u001b[0;34m\u001b[0m\u001b[0m\n\u001b[0;32m-> 2217\u001b[0;31m                     **kwargs)\n\u001b[0m\u001b[1;32m   2218\u001b[0m             \u001b[0;32mfinally\u001b[0m\u001b[0;34m:\u001b[0m\u001b[0;34m\u001b[0m\u001b[0;34m\u001b[0m\u001b[0m\n\u001b[1;32m   2219\u001b[0m                 \u001b[0;32mif\u001b[0m \u001b[0mbbox_inches\u001b[0m \u001b[0;32mand\u001b[0m \u001b[0mrestore_bbox\u001b[0m\u001b[0;34m:\u001b[0m\u001b[0;34m\u001b[0m\u001b[0;34m\u001b[0m\u001b[0m\n",
      "\u001b[0;32m~/anaconda3/envs/sb/lib/python3.7/site-packages/matplotlib/backend_bases.py\u001b[0m in \u001b[0;36mwrapper\u001b[0;34m(*args, **kwargs)\u001b[0m\n\u001b[1;32m   1637\u001b[0m             \u001b[0mkwargs\u001b[0m\u001b[0;34m.\u001b[0m\u001b[0mpop\u001b[0m\u001b[0;34m(\u001b[0m\u001b[0marg\u001b[0m\u001b[0;34m)\u001b[0m\u001b[0;34m\u001b[0m\u001b[0;34m\u001b[0m\u001b[0m\n\u001b[1;32m   1638\u001b[0m \u001b[0;34m\u001b[0m\u001b[0m\n\u001b[0;32m-> 1639\u001b[0;31m         \u001b[0;32mreturn\u001b[0m \u001b[0mfunc\u001b[0m\u001b[0;34m(\u001b[0m\u001b[0;34m*\u001b[0m\u001b[0margs\u001b[0m\u001b[0;34m,\u001b[0m \u001b[0;34m**\u001b[0m\u001b[0mkwargs\u001b[0m\u001b[0;34m)\u001b[0m\u001b[0;34m\u001b[0m\u001b[0;34m\u001b[0m\u001b[0m\n\u001b[0m\u001b[1;32m   1640\u001b[0m \u001b[0;34m\u001b[0m\u001b[0m\n\u001b[1;32m   1641\u001b[0m     \u001b[0;32mreturn\u001b[0m \u001b[0mwrapper\u001b[0m\u001b[0;34m\u001b[0m\u001b[0;34m\u001b[0m\u001b[0m\n",
      "\u001b[0;32m~/anaconda3/envs/sb/lib/python3.7/site-packages/matplotlib/backends/backend_agg.py\u001b[0m in \u001b[0;36mprint_png\u001b[0;34m(self, filename_or_obj, metadata, pil_kwargs, *args)\u001b[0m\n\u001b[1;32m    510\u001b[0m         mpl.image.imsave(\n\u001b[1;32m    511\u001b[0m             \u001b[0mfilename_or_obj\u001b[0m\u001b[0;34m,\u001b[0m \u001b[0mself\u001b[0m\u001b[0;34m.\u001b[0m\u001b[0mbuffer_rgba\u001b[0m\u001b[0;34m(\u001b[0m\u001b[0;34m)\u001b[0m\u001b[0;34m,\u001b[0m \u001b[0mformat\u001b[0m\u001b[0;34m=\u001b[0m\u001b[0;34m\"png\"\u001b[0m\u001b[0;34m,\u001b[0m \u001b[0morigin\u001b[0m\u001b[0;34m=\u001b[0m\u001b[0;34m\"upper\"\u001b[0m\u001b[0;34m,\u001b[0m\u001b[0;34m\u001b[0m\u001b[0;34m\u001b[0m\u001b[0m\n\u001b[0;32m--> 512\u001b[0;31m             dpi=self.figure.dpi, metadata=metadata, pil_kwargs=pil_kwargs)\n\u001b[0m\u001b[1;32m    513\u001b[0m \u001b[0;34m\u001b[0m\u001b[0m\n\u001b[1;32m    514\u001b[0m     \u001b[0;32mdef\u001b[0m \u001b[0mprint_to_buffer\u001b[0m\u001b[0;34m(\u001b[0m\u001b[0mself\u001b[0m\u001b[0;34m)\u001b[0m\u001b[0;34m:\u001b[0m\u001b[0;34m\u001b[0m\u001b[0;34m\u001b[0m\u001b[0m\n",
      "\u001b[0;32m~/anaconda3/envs/sb/lib/python3.7/site-packages/matplotlib/image.py\u001b[0m in \u001b[0;36mimsave\u001b[0;34m(fname, arr, vmin, vmax, cmap, format, origin, dpi, metadata, pil_kwargs)\u001b[0m\n\u001b[1;32m   1609\u001b[0m         \u001b[0mpil_kwargs\u001b[0m\u001b[0;34m.\u001b[0m\u001b[0msetdefault\u001b[0m\u001b[0;34m(\u001b[0m\u001b[0;34m\"format\"\u001b[0m\u001b[0;34m,\u001b[0m \u001b[0mformat\u001b[0m\u001b[0;34m)\u001b[0m\u001b[0;34m\u001b[0m\u001b[0;34m\u001b[0m\u001b[0m\n\u001b[1;32m   1610\u001b[0m         \u001b[0mpil_kwargs\u001b[0m\u001b[0;34m.\u001b[0m\u001b[0msetdefault\u001b[0m\u001b[0;34m(\u001b[0m\u001b[0;34m\"dpi\"\u001b[0m\u001b[0;34m,\u001b[0m \u001b[0;34m(\u001b[0m\u001b[0mdpi\u001b[0m\u001b[0;34m,\u001b[0m \u001b[0mdpi\u001b[0m\u001b[0;34m)\u001b[0m\u001b[0;34m)\u001b[0m\u001b[0;34m\u001b[0m\u001b[0;34m\u001b[0m\u001b[0m\n\u001b[0;32m-> 1611\u001b[0;31m         \u001b[0mimage\u001b[0m\u001b[0;34m.\u001b[0m\u001b[0msave\u001b[0m\u001b[0;34m(\u001b[0m\u001b[0mfname\u001b[0m\u001b[0;34m,\u001b[0m \u001b[0;34m**\u001b[0m\u001b[0mpil_kwargs\u001b[0m\u001b[0;34m)\u001b[0m\u001b[0;34m\u001b[0m\u001b[0;34m\u001b[0m\u001b[0m\n\u001b[0m\u001b[1;32m   1612\u001b[0m \u001b[0;34m\u001b[0m\u001b[0m\n\u001b[1;32m   1613\u001b[0m \u001b[0;34m\u001b[0m\u001b[0m\n",
      "\u001b[0;32m~/anaconda3/envs/sb/lib/python3.7/site-packages/PIL/Image.py\u001b[0m in \u001b[0;36msave\u001b[0;34m(self, fp, format, **params)\u001b[0m\n\u001b[1;32m   2167\u001b[0m                 \u001b[0mfp\u001b[0m \u001b[0;34m=\u001b[0m \u001b[0mbuiltins\u001b[0m\u001b[0;34m.\u001b[0m\u001b[0mopen\u001b[0m\u001b[0;34m(\u001b[0m\u001b[0mfilename\u001b[0m\u001b[0;34m,\u001b[0m \u001b[0;34m\"r+b\"\u001b[0m\u001b[0;34m)\u001b[0m\u001b[0;34m\u001b[0m\u001b[0;34m\u001b[0m\u001b[0m\n\u001b[1;32m   2168\u001b[0m             \u001b[0;32melse\u001b[0m\u001b[0;34m:\u001b[0m\u001b[0;34m\u001b[0m\u001b[0;34m\u001b[0m\u001b[0m\n\u001b[0;32m-> 2169\u001b[0;31m                 \u001b[0mfp\u001b[0m \u001b[0;34m=\u001b[0m \u001b[0mbuiltins\u001b[0m\u001b[0;34m.\u001b[0m\u001b[0mopen\u001b[0m\u001b[0;34m(\u001b[0m\u001b[0mfilename\u001b[0m\u001b[0;34m,\u001b[0m \u001b[0;34m\"w+b\"\u001b[0m\u001b[0;34m)\u001b[0m\u001b[0;34m\u001b[0m\u001b[0;34m\u001b[0m\u001b[0m\n\u001b[0m\u001b[1;32m   2170\u001b[0m \u001b[0;34m\u001b[0m\u001b[0m\n\u001b[1;32m   2171\u001b[0m         \u001b[0;32mtry\u001b[0m\u001b[0;34m:\u001b[0m\u001b[0;34m\u001b[0m\u001b[0;34m\u001b[0m\u001b[0m\n",
      "\u001b[0;31mFileNotFoundError\u001b[0m: [Errno 2] No such file or directory: 'figs/energy_rank_error.png'"
     ]
    },
    {
     "data": {
      "text/plain": [
       "<Figure size 432x288 with 0 Axes>"
      ]
     },
     "metadata": {},
     "output_type": "display_data"
    }
   ],
   "source": [
    "# for tcpu, tgpu in zip(cpu_pivtime_array,gpu_pivtime_array):\n",
    "#     print(tcpu, tgpu)\n",
    "    \n",
    "# plt.title(\"Matplotlib demo\") \n",
    "plt.xlabel(\"Rank of approximated matrix\") \n",
    "plt.ylabel(\"error\") \n",
    "\n",
    "# # print(type(lr_approx_gpu[1]), type(lr_approx_gpu[2]))\n",
    "# plot_x1 = np.asarray(lr_approx[1])\n",
    "# plot_y2 = np.asarray(lr_approx[2])\n",
    "# plot_y3 = np.asarray(lr_approx_gpu[2])\n",
    "\n",
    "# plt.plot(plot_x1, plot_y2, plot_y3)\n",
    "\n",
    "\n",
    "orig_norm = np.linalg.norm(kernel_matrix)\n",
    "plt.plot(lr_approx[1], orig_norm - lr_approx[2])\n",
    "plt.show()\n",
    "plt.savefig('figs/energy_rank_error.png')\n",
    "\n",
    "lr_approx_gpu[2]\n",
    "\n",
    "np.linalg.norm(kernel_matrix) - lr_approx[2]\n",
    "\n",
    "# lr_approx[2]\n",
    "lr_approx_gpu_norms =  []\n",
    "\n",
    "for val in lr_approx_gpu[2]:\n",
    "    lr_approx_gpu_norms.append(val)\n"
   ]
  },
  {
   "cell_type": "code",
   "execution_count": null,
   "id": "630a7227-65f8-429a-b8d8-cc5036a710fe",
   "metadata": {},
   "outputs": [],
   "source": [
    "start_krr_cpu = timer()\n",
    "\n",
    "\n",
    "y_predarray = execute_krr(lr_approx[0], 0, X_train, y_train, X_test)\n",
    "\n",
    "print(\"krr_cpu = \", timer() - start_krr_cpu)\n",
    "\n",
    "start_krr_cpu = = timer()\n",
    "\n",
    "y_predarray_gpu = execute_krr_gpu(lr_approx[0], 3, X_train, y_train, X_test)\n",
    "\n",
    "print(\"krr_cpu = \", timer() - start_krr_gpu)\n",
    "\n",
    "print(\"CPU krr full= \", timer() - start_krr_full)\n",
    "\n",
    "for y1, y2, y3 in zip(y_test, y_predarray, y_predarray_gpu):\n",
    "    print(y1, y2, y3)\n"
   ]
  },
  {
   "cell_type": "code",
   "execution_count": null,
   "id": "6f7c5b11-0e24-41d3-9488-5d9db3cf0736",
   "metadata": {},
   "outputs": [],
   "source": [
    "start_krr_full = timer()\n",
    "\n",
    "X_train_cp, y_train_cp, X_test_cp, y_test_cp, kernel_matrix_cp = cp.array(X_train), cp.array(y_train), cp.array(X_test), cp.array(y_test), cp.array(kernel_matrix)\n",
    "\n",
    "y_predarray_gpu = execute_krr_gpu(lr_approx_gpu, 0, X_train_cp, y_train_cp, X_test_cp)\n",
    "\n",
    "print(\"GPU krr full= \", timer() - start_krr_full)\n",
    "\n",
    "for y1, y2, y3 in zip(y_test, y_predarray, y_predarray_gpu):\n",
    "    print(y1, y2, y3)"
   ]
  },
  {
   "cell_type": "code",
   "execution_count": null,
   "id": "ae1af165-6991-4438-9a47-821d463b5353",
   "metadata": {},
   "outputs": [],
   "source": [
    "lr_approx[0].shape\n",
    "\n",
    "np.linalg.norm(kernel_matrix), np.linalg.norm(lr_approx[0])"
   ]
  },
  {
   "cell_type": "code",
   "execution_count": null,
   "id": "728e58e4-e33e-4025-a87a-4571be88ebee",
   "metadata": {},
   "outputs": [],
   "source": [
    "np.linalg.matrix_rank(lr_approx)"
   ]
  },
  {
   "cell_type": "code",
   "execution_count": null,
   "id": "dcc3f5dd-69d9-457a-b239-edc70d35fb2c",
   "metadata": {},
   "outputs": [],
   "source": [
    "krr_laplacian = KernelRidge(alpha=0, kernel='laplacian')\n",
    "# X_train_stan, y_train_stan = cp.asnumpy(X_train), cp.asnumpy(y_train)\n",
    "# X_test_stan, y_test_stan = cp.asnumpy(X_test), cp.asnumpy(y_test)\n",
    "krr_laplacian.fit(X_train, y_train)\n",
    "\n",
    "\n",
    "stan_pred = krr_laplacian.predict(X_test)\n",
    "# stan_pred = []\n",
    "\n",
    "rsme_krr_standard = np.sqrt(mean_squared_error(y_test, stan_pred))\n",
    "# rsme_krr_standard = 100\n",
    "rsme_krr_manual = np.sqrt(mean_squared_error(y_test, y_predarray))\n",
    "    \n",
    "print(\"rsme_sk = \", rsme_krr_standard, \"rsme_piv = \", rsme_krr_manual, \"\\n\")\n",
    "\n",
    "print(y_test.shape)\n",
    "\n",
    "for y1, y2, y3 in zip(stan_pred, y_predarray, y_test):\n",
    "    print(y1, \"    \", y2, \"     \", y3)"
   ]
  },
  {
   "cell_type": "code",
   "execution_count": null,
   "id": "f45af786-80db-4f02-917d-b3e59e57a338",
   "metadata": {
    "tags": []
   },
   "outputs": [],
   "source": [
    "for y1, y2 in zip(y_predarray2, y_test):\n",
    "    print(y1, \"    \", y2)"
   ]
  },
  {
   "cell_type": "code",
   "execution_count": null,
   "id": "3f426d69-011e-49ae-b14e-8ab867c93242",
   "metadata": {},
   "outputs": [],
   "source": [
    "#60 samples from energy_efficiency. 48:12 training - testing split\n",
    "\n",
    "kernel_matrix.shape\n",
    "    \n",
    "\n",
    "#sklearn krr, #manual    #actual values\n",
    "#RANK 46"
   ]
  }
 ],
 "metadata": {
  "kernelspec": {
   "display_name": "Python 3",
   "language": "python",
   "name": "python3"
  },
  "language_info": {
   "codemirror_mode": {
    "name": "ipython",
    "version": 3
   },
   "file_extension": ".py",
   "mimetype": "text/x-python",
   "name": "python",
   "nbconvert_exporter": "python",
   "pygments_lexer": "ipython3",
   "version": "3.7.9"
  }
 },
 "nbformat": 4,
 "nbformat_minor": 5
}
